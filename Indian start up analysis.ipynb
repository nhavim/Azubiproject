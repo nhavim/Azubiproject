{
 "cells": [
  {
   "cell_type": "markdown",
   "metadata": {},
   "source": [
    "\n",
    "\n"
   ]
  },
  {
   "cell_type": "markdown",
   "metadata": {},
   "source": [
    "## Hypotheses"
   ]
  },
  {
   "cell_type": "markdown",
   "metadata": {},
   "source": [
    "# NullHypothesis, H0: There is no relationship between amount sourced and industry or sector\n",
    "# Alternative Hypothesis, H1: There is a relationship between amount sourced and industry or sector"
   ]
  },
  {
   "cell_type": "markdown",
   "metadata": {},
   "source": [
    "## Questions"
   ]
  },
  {
   "cell_type": "markdown",
   "metadata": {},
   "source": [
    "# Which industry / sector receives the highest funding?\n",
    "# Is there a relationship between the age of company and amount of funding sourced\n",
    "# Which investors give the highest funding?\n",
    "# Is location a factor in sourcing funding?\n",
    "# Which type of funding (series) is mostly accessed?\n"
   ]
  }
 ],
 "metadata": {
  "kernelspec": {
   "display_name": "Python 3.10.6 64-bit",
   "language": "python",
   "name": "python3"
  },
  "language_info": {
   "codemirror_mode": {
    "name": "ipython",
    "version": 3
   },
   "file_extension": ".py",
   "mimetype": "text/x-python",
   "name": "python",
   "nbconvert_exporter": "python",
   "pygments_lexer": "ipython3",
   "version": "3.10.6"
  },
  "orig_nbformat": 4,
  "vscode": {
   "interpreter": {
    "hash": "55f0b4d666710dd884c6e93b2758e5846ca3e257e8796021066fa4b551530aa4"
   }
  }
 },
 "nbformat": 4,
 "nbformat_minor": 2
}
